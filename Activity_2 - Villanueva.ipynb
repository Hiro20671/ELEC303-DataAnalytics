{
 "cells": [
  {
   "cell_type": "markdown",
   "id": "c53785a1-df60-420a-9ebb-21d6fde60dbd",
   "metadata": {},
   "source": [
    "<h1>UK ROAD ACCIDENT DATA ANALYTICS PROJECT</h1>\n",
    "<hr>\n",
    "<h3>Analyst : Jeremy Bryan T. Villanueva</h3>"
   ]
  },
  {
   "cell_type": "markdown",
   "id": "3fcd7f05-f6e2-470a-b39e-e1fa4bc0f203",
   "metadata": {},
   "source": [
    "<h2>Libraries</h2>"
   ]
  },
  {
   "cell_type": "code",
   "execution_count": 1,
   "id": "67ca892b-6866-4f8c-9341-4b89a95b5d60",
   "metadata": {},
   "outputs": [],
   "source": [
    "#import libraries\n",
    "import numpy as np\n",
    "import pandas as pd\n",
    "import warnings\n",
    "warnings.filterwarnings('ignore')"
   ]
  },
  {
   "cell_type": "markdown",
   "id": "7d828b01-e3d0-4cc7-a1d2-9b5145b40e8c",
   "metadata": {},
   "source": [
    "<h2>Converting Datasets into DataFrame</h2>"
   ]
  },
  {
   "cell_type": "code",
   "execution_count": 2,
   "id": "905c588e-b951-478b-8008-6bd61eedaaf7",
   "metadata": {},
   "outputs": [
    {
     "data": {
      "text/html": [
       "<div>\n",
       "<style scoped>\n",
       "    .dataframe tbody tr th:only-of-type {\n",
       "        vertical-align: middle;\n",
       "    }\n",
       "\n",
       "    .dataframe tbody tr th {\n",
       "        vertical-align: top;\n",
       "    }\n",
       "\n",
       "    .dataframe thead th {\n",
       "        text-align: right;\n",
       "    }\n",
       "</style>\n",
       "<table border=\"1\" class=\"dataframe\">\n",
       "  <thead>\n",
       "    <tr style=\"text-align: right;\">\n",
       "      <th></th>\n",
       "      <th>Index</th>\n",
       "      <th>Accident_Severity</th>\n",
       "      <th>Accident Date</th>\n",
       "      <th>Latitude</th>\n",
       "      <th>Light_Conditions</th>\n",
       "      <th>District Area</th>\n",
       "      <th>Longitude</th>\n",
       "      <th>Number_of_Casualties</th>\n",
       "      <th>Number_of_Vehicles</th>\n",
       "      <th>Road_Surface_Conditions</th>\n",
       "      <th>Road_Type</th>\n",
       "      <th>Urban_or_Rural_Area</th>\n",
       "      <th>Weather_Conditions</th>\n",
       "      <th>Vehicle_Type</th>\n",
       "    </tr>\n",
       "  </thead>\n",
       "  <tbody>\n",
       "    <tr>\n",
       "      <th>0</th>\n",
       "      <td>200701BS64157</td>\n",
       "      <td>Serious</td>\n",
       "      <td>5/6/2019</td>\n",
       "      <td>51.506187</td>\n",
       "      <td>Darkness - lights lit</td>\n",
       "      <td>Kensington and Chelsea</td>\n",
       "      <td>-0.209082</td>\n",
       "      <td>1</td>\n",
       "      <td>2</td>\n",
       "      <td>Dry</td>\n",
       "      <td>Single carriageway</td>\n",
       "      <td>Urban</td>\n",
       "      <td>Fine no high winds</td>\n",
       "      <td>Car</td>\n",
       "    </tr>\n",
       "    <tr>\n",
       "      <th>1</th>\n",
       "      <td>200701BS65737</td>\n",
       "      <td>Serious</td>\n",
       "      <td>2/7/2019</td>\n",
       "      <td>51.495029</td>\n",
       "      <td>Daylight</td>\n",
       "      <td>Kensington and Chelsea</td>\n",
       "      <td>-0.173647</td>\n",
       "      <td>1</td>\n",
       "      <td>2</td>\n",
       "      <td>Wet or damp</td>\n",
       "      <td>Single carriageway</td>\n",
       "      <td>Urban</td>\n",
       "      <td>Raining no high winds</td>\n",
       "      <td>Car</td>\n",
       "    </tr>\n",
       "    <tr>\n",
       "      <th>2</th>\n",
       "      <td>200701BS66127</td>\n",
       "      <td>Serious</td>\n",
       "      <td>26-08-2019</td>\n",
       "      <td>51.517715</td>\n",
       "      <td>Darkness - lighting unknown</td>\n",
       "      <td>Kensington and Chelsea</td>\n",
       "      <td>-0.210215</td>\n",
       "      <td>1</td>\n",
       "      <td>3</td>\n",
       "      <td>Dry</td>\n",
       "      <td>NaN</td>\n",
       "      <td>Urban</td>\n",
       "      <td>NaN</td>\n",
       "      <td>Taxi/Private hire car</td>\n",
       "    </tr>\n",
       "    <tr>\n",
       "      <th>3</th>\n",
       "      <td>200701BS66128</td>\n",
       "      <td>Serious</td>\n",
       "      <td>16-08-2019</td>\n",
       "      <td>51.495478</td>\n",
       "      <td>Daylight</td>\n",
       "      <td>Kensington and Chelsea</td>\n",
       "      <td>-0.202731</td>\n",
       "      <td>1</td>\n",
       "      <td>4</td>\n",
       "      <td>Dry</td>\n",
       "      <td>Single carriageway</td>\n",
       "      <td>Urban</td>\n",
       "      <td>Fine no high winds</td>\n",
       "      <td>Bus or coach (17 or more pass seats)</td>\n",
       "    </tr>\n",
       "    <tr>\n",
       "      <th>4</th>\n",
       "      <td>200701BS66837</td>\n",
       "      <td>Slight</td>\n",
       "      <td>3/9/2019</td>\n",
       "      <td>51.488576</td>\n",
       "      <td>Darkness - lights lit</td>\n",
       "      <td>Kensington and Chelsea</td>\n",
       "      <td>-0.192487</td>\n",
       "      <td>1</td>\n",
       "      <td>2</td>\n",
       "      <td>Dry</td>\n",
       "      <td>NaN</td>\n",
       "      <td>Urban</td>\n",
       "      <td>NaN</td>\n",
       "      <td>Other vehicle</td>\n",
       "    </tr>\n",
       "    <tr>\n",
       "      <th>...</th>\n",
       "      <td>...</td>\n",
       "      <td>...</td>\n",
       "      <td>...</td>\n",
       "      <td>...</td>\n",
       "      <td>...</td>\n",
       "      <td>...</td>\n",
       "      <td>...</td>\n",
       "      <td>...</td>\n",
       "      <td>...</td>\n",
       "      <td>...</td>\n",
       "      <td>...</td>\n",
       "      <td>...</td>\n",
       "      <td>...</td>\n",
       "      <td>...</td>\n",
       "    </tr>\n",
       "    <tr>\n",
       "      <th>660674</th>\n",
       "      <td>201091NM01760</td>\n",
       "      <td>Slight</td>\n",
       "      <td>18-02-2022</td>\n",
       "      <td>57.374005</td>\n",
       "      <td>Daylight</td>\n",
       "      <td>Highland</td>\n",
       "      <td>-3.467828</td>\n",
       "      <td>2</td>\n",
       "      <td>1</td>\n",
       "      <td>Dry</td>\n",
       "      <td>Single carriageway</td>\n",
       "      <td>Rural</td>\n",
       "      <td>Fine no high winds</td>\n",
       "      <td>Car</td>\n",
       "    </tr>\n",
       "    <tr>\n",
       "      <th>660675</th>\n",
       "      <td>201091NM01881</td>\n",
       "      <td>Slight</td>\n",
       "      <td>21-02-2022</td>\n",
       "      <td>57.232273</td>\n",
       "      <td>Darkness - no lighting</td>\n",
       "      <td>Highland</td>\n",
       "      <td>-3.809281</td>\n",
       "      <td>1</td>\n",
       "      <td>1</td>\n",
       "      <td>Frost or ice</td>\n",
       "      <td>Single carriageway</td>\n",
       "      <td>Rural</td>\n",
       "      <td>Fine no high winds</td>\n",
       "      <td>Car</td>\n",
       "    </tr>\n",
       "    <tr>\n",
       "      <th>660676</th>\n",
       "      <td>201091NM01935</td>\n",
       "      <td>Slight</td>\n",
       "      <td>23-02-2022</td>\n",
       "      <td>57.585044</td>\n",
       "      <td>Daylight</td>\n",
       "      <td>Highland</td>\n",
       "      <td>-3.862727</td>\n",
       "      <td>1</td>\n",
       "      <td>3</td>\n",
       "      <td>Frost or ice</td>\n",
       "      <td>Single carriageway</td>\n",
       "      <td>Rural</td>\n",
       "      <td>Fine no high winds</td>\n",
       "      <td>Car</td>\n",
       "    </tr>\n",
       "    <tr>\n",
       "      <th>660677</th>\n",
       "      <td>201091NM01964</td>\n",
       "      <td>Serious</td>\n",
       "      <td>23-02-2022</td>\n",
       "      <td>57.214898</td>\n",
       "      <td>Darkness - no lighting</td>\n",
       "      <td>Highland</td>\n",
       "      <td>-3.823997</td>\n",
       "      <td>1</td>\n",
       "      <td>2</td>\n",
       "      <td>Wet or damp</td>\n",
       "      <td>Single carriageway</td>\n",
       "      <td>Rural</td>\n",
       "      <td>Fine no high winds</td>\n",
       "      <td>Motorcycle over 500cc</td>\n",
       "    </tr>\n",
       "    <tr>\n",
       "      <th>660678</th>\n",
       "      <td>201091NM02142</td>\n",
       "      <td>Serious</td>\n",
       "      <td>28-02-2022</td>\n",
       "      <td>57.575210</td>\n",
       "      <td>Daylight</td>\n",
       "      <td>Highland</td>\n",
       "      <td>-3.895673</td>\n",
       "      <td>1</td>\n",
       "      <td>1</td>\n",
       "      <td>Wet or damp</td>\n",
       "      <td>Dual carriageway</td>\n",
       "      <td>Rural</td>\n",
       "      <td>Snowing no high winds</td>\n",
       "      <td>Car</td>\n",
       "    </tr>\n",
       "  </tbody>\n",
       "</table>\n",
       "<p>660679 rows × 14 columns</p>\n",
       "</div>"
      ],
      "text/plain": [
       "                Index Accident_Severity Accident Date   Latitude  \\\n",
       "0       200701BS64157           Serious      5/6/2019  51.506187   \n",
       "1       200701BS65737           Serious      2/7/2019  51.495029   \n",
       "2       200701BS66127           Serious    26-08-2019  51.517715   \n",
       "3       200701BS66128           Serious    16-08-2019  51.495478   \n",
       "4       200701BS66837            Slight      3/9/2019  51.488576   \n",
       "...               ...               ...           ...        ...   \n",
       "660674  201091NM01760            Slight    18-02-2022  57.374005   \n",
       "660675  201091NM01881            Slight    21-02-2022  57.232273   \n",
       "660676  201091NM01935            Slight    23-02-2022  57.585044   \n",
       "660677  201091NM01964           Serious    23-02-2022  57.214898   \n",
       "660678  201091NM02142           Serious    28-02-2022  57.575210   \n",
       "\n",
       "                   Light_Conditions           District Area  Longitude  \\\n",
       "0             Darkness - lights lit  Kensington and Chelsea  -0.209082   \n",
       "1                          Daylight  Kensington and Chelsea  -0.173647   \n",
       "2       Darkness - lighting unknown  Kensington and Chelsea  -0.210215   \n",
       "3                          Daylight  Kensington and Chelsea  -0.202731   \n",
       "4             Darkness - lights lit  Kensington and Chelsea  -0.192487   \n",
       "...                             ...                     ...        ...   \n",
       "660674                     Daylight                Highland  -3.467828   \n",
       "660675       Darkness - no lighting                Highland  -3.809281   \n",
       "660676                     Daylight                Highland  -3.862727   \n",
       "660677       Darkness - no lighting                Highland  -3.823997   \n",
       "660678                     Daylight                Highland  -3.895673   \n",
       "\n",
       "        Number_of_Casualties  Number_of_Vehicles Road_Surface_Conditions  \\\n",
       "0                          1                   2                     Dry   \n",
       "1                          1                   2             Wet or damp   \n",
       "2                          1                   3                     Dry   \n",
       "3                          1                   4                     Dry   \n",
       "4                          1                   2                     Dry   \n",
       "...                      ...                 ...                     ...   \n",
       "660674                     2                   1                     Dry   \n",
       "660675                     1                   1            Frost or ice   \n",
       "660676                     1                   3            Frost or ice   \n",
       "660677                     1                   2             Wet or damp   \n",
       "660678                     1                   1             Wet or damp   \n",
       "\n",
       "                 Road_Type Urban_or_Rural_Area     Weather_Conditions  \\\n",
       "0       Single carriageway               Urban     Fine no high winds   \n",
       "1       Single carriageway               Urban  Raining no high winds   \n",
       "2                      NaN               Urban                    NaN   \n",
       "3       Single carriageway               Urban     Fine no high winds   \n",
       "4                      NaN               Urban                    NaN   \n",
       "...                    ...                 ...                    ...   \n",
       "660674  Single carriageway               Rural     Fine no high winds   \n",
       "660675  Single carriageway               Rural     Fine no high winds   \n",
       "660676  Single carriageway               Rural     Fine no high winds   \n",
       "660677  Single carriageway               Rural     Fine no high winds   \n",
       "660678    Dual carriageway               Rural  Snowing no high winds   \n",
       "\n",
       "                                Vehicle_Type  \n",
       "0                                        Car  \n",
       "1                                        Car  \n",
       "2                      Taxi/Private hire car  \n",
       "3       Bus or coach (17 or more pass seats)  \n",
       "4                              Other vehicle  \n",
       "...                                      ...  \n",
       "660674                                   Car  \n",
       "660675                                   Car  \n",
       "660676                                   Car  \n",
       "660677                 Motorcycle over 500cc  \n",
       "660678                                   Car  \n",
       "\n",
       "[660679 rows x 14 columns]"
      ]
     },
     "execution_count": 2,
     "metadata": {},
     "output_type": "execute_result"
    }
   ],
   "source": [
    "accident = pd.read_csv('dataset\\\\uk_road_accident.csv')\n",
    "accident"
   ]
  },
  {
   "cell_type": "markdown",
   "id": "aa935eb7-1ec0-4778-8787-75821500d776",
   "metadata": {},
   "source": [
    "<h2>DataFrame Info</h2>"
   ]
  },
  {
   "cell_type": "code",
   "execution_count": 3,
   "id": "c01de544-a2e1-45a5-ba51-b9fc9f91bdf0",
   "metadata": {},
   "outputs": [
    {
     "name": "stdout",
     "output_type": "stream",
     "text": [
      "<class 'pandas.core.frame.DataFrame'>\n",
      "RangeIndex: 660679 entries, 0 to 660678\n",
      "Data columns (total 14 columns):\n",
      " #   Column                   Non-Null Count   Dtype  \n",
      "---  ------                   --------------   -----  \n",
      " 0   Index                    660679 non-null  object \n",
      " 1   Accident_Severity        660679 non-null  object \n",
      " 2   Accident Date            660679 non-null  object \n",
      " 3   Latitude                 660654 non-null  float64\n",
      " 4   Light_Conditions         660679 non-null  object \n",
      " 5   District Area            660679 non-null  object \n",
      " 6   Longitude                660653 non-null  float64\n",
      " 7   Number_of_Casualties     660679 non-null  int64  \n",
      " 8   Number_of_Vehicles       660679 non-null  int64  \n",
      " 9   Road_Surface_Conditions  659953 non-null  object \n",
      " 10  Road_Type                656159 non-null  object \n",
      " 11  Urban_or_Rural_Area      660664 non-null  object \n",
      " 12  Weather_Conditions       646551 non-null  object \n",
      " 13  Vehicle_Type             660679 non-null  object \n",
      "dtypes: float64(2), int64(2), object(10)\n",
      "memory usage: 70.6+ MB\n"
     ]
    }
   ],
   "source": [
    "accident.info()"
   ]
  },
  {
   "cell_type": "markdown",
   "id": "c09b388f-37be-450b-b7e9-690a3832858c",
   "metadata": {},
   "source": [
    "<h2>DataFrame Basic Descriptive Statistics</h2>"
   ]
  },
  {
   "cell_type": "code",
   "execution_count": 4,
   "id": "e2af270b-08ba-4387-8c56-2ef167dc46cc",
   "metadata": {},
   "outputs": [
    {
     "data": {
      "text/html": [
       "<div>\n",
       "<style scoped>\n",
       "    .dataframe tbody tr th:only-of-type {\n",
       "        vertical-align: middle;\n",
       "    }\n",
       "\n",
       "    .dataframe tbody tr th {\n",
       "        vertical-align: top;\n",
       "    }\n",
       "\n",
       "    .dataframe thead th {\n",
       "        text-align: right;\n",
       "    }\n",
       "</style>\n",
       "<table border=\"1\" class=\"dataframe\">\n",
       "  <thead>\n",
       "    <tr style=\"text-align: right;\">\n",
       "      <th></th>\n",
       "      <th>Latitude</th>\n",
       "      <th>Longitude</th>\n",
       "      <th>Number_of_Casualties</th>\n",
       "      <th>Number_of_Vehicles</th>\n",
       "    </tr>\n",
       "  </thead>\n",
       "  <tbody>\n",
       "    <tr>\n",
       "      <th>count</th>\n",
       "      <td>660654.000000</td>\n",
       "      <td>660653.000000</td>\n",
       "      <td>660679.000000</td>\n",
       "      <td>660679.000000</td>\n",
       "    </tr>\n",
       "    <tr>\n",
       "      <th>mean</th>\n",
       "      <td>52.553866</td>\n",
       "      <td>-1.431210</td>\n",
       "      <td>1.357040</td>\n",
       "      <td>1.831255</td>\n",
       "    </tr>\n",
       "    <tr>\n",
       "      <th>std</th>\n",
       "      <td>1.406922</td>\n",
       "      <td>1.383330</td>\n",
       "      <td>0.824847</td>\n",
       "      <td>0.715269</td>\n",
       "    </tr>\n",
       "    <tr>\n",
       "      <th>min</th>\n",
       "      <td>49.914430</td>\n",
       "      <td>-7.516225</td>\n",
       "      <td>1.000000</td>\n",
       "      <td>1.000000</td>\n",
       "    </tr>\n",
       "    <tr>\n",
       "      <th>25%</th>\n",
       "      <td>51.490690</td>\n",
       "      <td>-2.332291</td>\n",
       "      <td>1.000000</td>\n",
       "      <td>1.000000</td>\n",
       "    </tr>\n",
       "    <tr>\n",
       "      <th>50%</th>\n",
       "      <td>52.315641</td>\n",
       "      <td>-1.411667</td>\n",
       "      <td>1.000000</td>\n",
       "      <td>2.000000</td>\n",
       "    </tr>\n",
       "    <tr>\n",
       "      <th>75%</th>\n",
       "      <td>53.453452</td>\n",
       "      <td>-0.232869</td>\n",
       "      <td>1.000000</td>\n",
       "      <td>2.000000</td>\n",
       "    </tr>\n",
       "    <tr>\n",
       "      <th>max</th>\n",
       "      <td>60.757544</td>\n",
       "      <td>1.762010</td>\n",
       "      <td>68.000000</td>\n",
       "      <td>32.000000</td>\n",
       "    </tr>\n",
       "  </tbody>\n",
       "</table>\n",
       "</div>"
      ],
      "text/plain": [
       "            Latitude      Longitude  Number_of_Casualties  Number_of_Vehicles\n",
       "count  660654.000000  660653.000000         660679.000000       660679.000000\n",
       "mean       52.553866      -1.431210              1.357040            1.831255\n",
       "std         1.406922       1.383330              0.824847            0.715269\n",
       "min        49.914430      -7.516225              1.000000            1.000000\n",
       "25%        51.490690      -2.332291              1.000000            1.000000\n",
       "50%        52.315641      -1.411667              1.000000            2.000000\n",
       "75%        53.453452      -0.232869              1.000000            2.000000\n",
       "max        60.757544       1.762010             68.000000           32.000000"
      ]
     },
     "execution_count": 4,
     "metadata": {},
     "output_type": "execute_result"
    }
   ],
   "source": [
    "accident.describe()"
   ]
  },
  {
   "cell_type": "markdown",
   "id": "b626eae2-776e-409b-b326-0f6f7a84cab0",
   "metadata": {},
   "source": [
    "<h2>Checking Null Values</h2>"
   ]
  },
  {
   "cell_type": "code",
   "execution_count": 5,
   "id": "9c60ce04-0ffe-4a67-91e4-9fa4adaa57a8",
   "metadata": {},
   "outputs": [
    {
     "data": {
      "text/plain": [
       "Index                          0\n",
       "Accident_Severity              0\n",
       "Accident Date                  0\n",
       "Latitude                      25\n",
       "Light_Conditions               0\n",
       "District Area                  0\n",
       "Longitude                     26\n",
       "Number_of_Casualties           0\n",
       "Number_of_Vehicles             0\n",
       "Road_Surface_Conditions      726\n",
       "Road_Type                   4520\n",
       "Urban_or_Rural_Area           15\n",
       "Weather_Conditions         14128\n",
       "Vehicle_Type                   0\n",
       "dtype: int64"
      ]
     },
     "execution_count": 5,
     "metadata": {},
     "output_type": "execute_result"
    }
   ],
   "source": [
    "accident.isnull().sum()"
   ]
  },
  {
   "cell_type": "markdown",
   "id": "a05f9500-09a9-431e-807a-512a6433a6c2",
   "metadata": {},
   "source": [
    "<h2>Fill Null Values with Statistical Values</h2>"
   ]
  },
  {
   "cell_type": "code",
   "execution_count": 6,
   "id": "7696d979-d07c-4611-9407-a5e9d71c1d21",
   "metadata": {},
   "outputs": [],
   "source": [
    "accident['Latitude'] = accident['Latitude'].fillna(accident['Latitude'].mean())\n",
    "accident['Longitude'] = accident['Longitude'].fillna(accident['Longitude'].mean())\n",
    "accident['Road_Surface_Conditions'] = accident['Road_Surface_Conditions'].fillna(accident['Road_Surface_Conditions'].mode()[0])\n",
    "accident['Road_Type'] = accident['Road_Type'].fillna(accident['Road_Type'].mode()[0])\n",
    "accident['Urban_or_Rural_Area'] = accident['Urban_or_Rural_Area'].fillna(accident['Urban_or_Rural_Area'].mode()[0])\n",
    "accident['Weather_Conditions'] = accident['Weather_Conditions'].fillna(accident['Weather_Conditions'].mode()[0])"
   ]
  },
  {
   "cell_type": "markdown",
   "id": "44c1089b-7943-49f5-9a9f-f1fd3c4b5936",
   "metadata": {},
   "source": [
    "<h2>Checking Column Data Types</h2>"
   ]
  },
  {
   "cell_type": "code",
   "execution_count": 7,
   "id": "8d4b3dd6-b5df-4f16-a705-bae5ec8a47c6",
   "metadata": {},
   "outputs": [
    {
     "data": {
      "text/plain": [
       "Index                       object\n",
       "Accident_Severity           object\n",
       "Accident Date               object\n",
       "Latitude                   float64\n",
       "Light_Conditions            object\n",
       "District Area               object\n",
       "Longitude                  float64\n",
       "Number_of_Casualties         int64\n",
       "Number_of_Vehicles           int64\n",
       "Road_Surface_Conditions     object\n",
       "Road_Type                   object\n",
       "Urban_or_Rural_Area         object\n",
       "Weather_Conditions          object\n",
       "Vehicle_Type                object\n",
       "dtype: object"
      ]
     },
     "execution_count": 7,
     "metadata": {},
     "output_type": "execute_result"
    }
   ],
   "source": [
    "accident.dtypes"
   ]
  },
  {
   "cell_type": "code",
   "execution_count": 8,
   "id": "6a2d483f-f065-4cfc-aab0-0f5bb2b057ef",
   "metadata": {},
   "outputs": [],
   "source": [
    "# Convert to integer\n",
    "accident['Number_of_Casualties'] = accident['Number_of_Casualties'].astype('int')\n",
    "accident['Number_of_Vehicles'] = accident['Number_of_Vehicles'].astype('int')\n",
    "\n",
    "# Convert to float\n",
    "accident['Latitude'] = accident['Latitude'].astype('float')\n",
    "accident['Longitude'] = accident['Longitude'].astype('float')\n",
    "\n",
    "# Convert to string (object)\n",
    "accident['Index'] = accident['Index'].astype('category')\n",
    "accident['Accident_Severity'] = accident['Accident_Severity'].astype('category')\n",
    "accident['Accident Date'] = accident['Accident Date'].astype('category')\n",
    "accident['Light_Conditions'] = accident['Light_Conditions'].astype('category')\n",
    "accident['District Area'] = accident['District Area'].astype('category')\n",
    "accident['Road_Surface_Conditions'] = accident['Road_Surface_Conditions'].astype('category')\n",
    "accident['Road_Type'] = accident['Road_Type'].astype('category')\n",
    "accident['Urban_or_Rural_Area'] = accident['Urban_or_Rural_Area'].astype('category')\n",
    "accident['Weather_Conditions'] = accident['Weather_Conditions'].astype('category')\n",
    "accident['Vehicle_Type'] = accident['Vehicle_Type'].astype('category')"
   ]
  },
  {
   "cell_type": "code",
   "execution_count": 9,
   "id": "be691f30-d112-4d5f-a547-633a77a60538",
   "metadata": {},
   "outputs": [
    {
     "data": {
      "text/html": [
       "<div>\n",
       "<style scoped>\n",
       "    .dataframe tbody tr th:only-of-type {\n",
       "        vertical-align: middle;\n",
       "    }\n",
       "\n",
       "    .dataframe tbody tr th {\n",
       "        vertical-align: top;\n",
       "    }\n",
       "\n",
       "    .dataframe thead th {\n",
       "        text-align: right;\n",
       "    }\n",
       "</style>\n",
       "<table border=\"1\" class=\"dataframe\">\n",
       "  <thead>\n",
       "    <tr style=\"text-align: right;\">\n",
       "      <th></th>\n",
       "      <th>Index</th>\n",
       "      <th>Accident_Severity</th>\n",
       "      <th>Accident Date</th>\n",
       "      <th>Latitude</th>\n",
       "      <th>Light_Conditions</th>\n",
       "      <th>District Area</th>\n",
       "      <th>Longitude</th>\n",
       "      <th>Number_of_Casualties</th>\n",
       "      <th>Number_of_Vehicles</th>\n",
       "      <th>Road_Surface_Conditions</th>\n",
       "      <th>Road_Type</th>\n",
       "      <th>Urban_or_Rural_Area</th>\n",
       "      <th>Weather_Conditions</th>\n",
       "      <th>Vehicle_Type</th>\n",
       "    </tr>\n",
       "  </thead>\n",
       "  <tbody>\n",
       "    <tr>\n",
       "      <th>0</th>\n",
       "      <td>200701BS64157</td>\n",
       "      <td>Serious</td>\n",
       "      <td>5/6/2019</td>\n",
       "      <td>51.506187</td>\n",
       "      <td>Darkness - lights lit</td>\n",
       "      <td>Kensington and Chelsea</td>\n",
       "      <td>-0.209082</td>\n",
       "      <td>1</td>\n",
       "      <td>2</td>\n",
       "      <td>Dry</td>\n",
       "      <td>Single carriageway</td>\n",
       "      <td>Urban</td>\n",
       "      <td>Fine no high winds</td>\n",
       "      <td>Car</td>\n",
       "    </tr>\n",
       "    <tr>\n",
       "      <th>1</th>\n",
       "      <td>200701BS65737</td>\n",
       "      <td>Serious</td>\n",
       "      <td>2/7/2019</td>\n",
       "      <td>51.495029</td>\n",
       "      <td>Daylight</td>\n",
       "      <td>Kensington and Chelsea</td>\n",
       "      <td>-0.173647</td>\n",
       "      <td>1</td>\n",
       "      <td>2</td>\n",
       "      <td>Wet or damp</td>\n",
       "      <td>Single carriageway</td>\n",
       "      <td>Urban</td>\n",
       "      <td>Raining no high winds</td>\n",
       "      <td>Car</td>\n",
       "    </tr>\n",
       "    <tr>\n",
       "      <th>2</th>\n",
       "      <td>200701BS66127</td>\n",
       "      <td>Serious</td>\n",
       "      <td>26-08-2019</td>\n",
       "      <td>51.517715</td>\n",
       "      <td>Darkness - lighting unknown</td>\n",
       "      <td>Kensington and Chelsea</td>\n",
       "      <td>-0.210215</td>\n",
       "      <td>1</td>\n",
       "      <td>3</td>\n",
       "      <td>Dry</td>\n",
       "      <td>Single carriageway</td>\n",
       "      <td>Urban</td>\n",
       "      <td>Fine no high winds</td>\n",
       "      <td>Taxi/Private hire car</td>\n",
       "    </tr>\n",
       "    <tr>\n",
       "      <th>3</th>\n",
       "      <td>200701BS66128</td>\n",
       "      <td>Serious</td>\n",
       "      <td>16-08-2019</td>\n",
       "      <td>51.495478</td>\n",
       "      <td>Daylight</td>\n",
       "      <td>Kensington and Chelsea</td>\n",
       "      <td>-0.202731</td>\n",
       "      <td>1</td>\n",
       "      <td>4</td>\n",
       "      <td>Dry</td>\n",
       "      <td>Single carriageway</td>\n",
       "      <td>Urban</td>\n",
       "      <td>Fine no high winds</td>\n",
       "      <td>Bus or coach (17 or more pass seats)</td>\n",
       "    </tr>\n",
       "    <tr>\n",
       "      <th>4</th>\n",
       "      <td>200701BS66837</td>\n",
       "      <td>Slight</td>\n",
       "      <td>3/9/2019</td>\n",
       "      <td>51.488576</td>\n",
       "      <td>Darkness - lights lit</td>\n",
       "      <td>Kensington and Chelsea</td>\n",
       "      <td>-0.192487</td>\n",
       "      <td>1</td>\n",
       "      <td>2</td>\n",
       "      <td>Dry</td>\n",
       "      <td>Single carriageway</td>\n",
       "      <td>Urban</td>\n",
       "      <td>Fine no high winds</td>\n",
       "      <td>Other vehicle</td>\n",
       "    </tr>\n",
       "    <tr>\n",
       "      <th>...</th>\n",
       "      <td>...</td>\n",
       "      <td>...</td>\n",
       "      <td>...</td>\n",
       "      <td>...</td>\n",
       "      <td>...</td>\n",
       "      <td>...</td>\n",
       "      <td>...</td>\n",
       "      <td>...</td>\n",
       "      <td>...</td>\n",
       "      <td>...</td>\n",
       "      <td>...</td>\n",
       "      <td>...</td>\n",
       "      <td>...</td>\n",
       "      <td>...</td>\n",
       "    </tr>\n",
       "    <tr>\n",
       "      <th>660674</th>\n",
       "      <td>201091NM01760</td>\n",
       "      <td>Slight</td>\n",
       "      <td>18-02-2022</td>\n",
       "      <td>57.374005</td>\n",
       "      <td>Daylight</td>\n",
       "      <td>Highland</td>\n",
       "      <td>-3.467828</td>\n",
       "      <td>2</td>\n",
       "      <td>1</td>\n",
       "      <td>Dry</td>\n",
       "      <td>Single carriageway</td>\n",
       "      <td>Rural</td>\n",
       "      <td>Fine no high winds</td>\n",
       "      <td>Car</td>\n",
       "    </tr>\n",
       "    <tr>\n",
       "      <th>660675</th>\n",
       "      <td>201091NM01881</td>\n",
       "      <td>Slight</td>\n",
       "      <td>21-02-2022</td>\n",
       "      <td>57.232273</td>\n",
       "      <td>Darkness - no lighting</td>\n",
       "      <td>Highland</td>\n",
       "      <td>-3.809281</td>\n",
       "      <td>1</td>\n",
       "      <td>1</td>\n",
       "      <td>Frost or ice</td>\n",
       "      <td>Single carriageway</td>\n",
       "      <td>Rural</td>\n",
       "      <td>Fine no high winds</td>\n",
       "      <td>Car</td>\n",
       "    </tr>\n",
       "    <tr>\n",
       "      <th>660676</th>\n",
       "      <td>201091NM01935</td>\n",
       "      <td>Slight</td>\n",
       "      <td>23-02-2022</td>\n",
       "      <td>57.585044</td>\n",
       "      <td>Daylight</td>\n",
       "      <td>Highland</td>\n",
       "      <td>-3.862727</td>\n",
       "      <td>1</td>\n",
       "      <td>3</td>\n",
       "      <td>Frost or ice</td>\n",
       "      <td>Single carriageway</td>\n",
       "      <td>Rural</td>\n",
       "      <td>Fine no high winds</td>\n",
       "      <td>Car</td>\n",
       "    </tr>\n",
       "    <tr>\n",
       "      <th>660677</th>\n",
       "      <td>201091NM01964</td>\n",
       "      <td>Serious</td>\n",
       "      <td>23-02-2022</td>\n",
       "      <td>57.214898</td>\n",
       "      <td>Darkness - no lighting</td>\n",
       "      <td>Highland</td>\n",
       "      <td>-3.823997</td>\n",
       "      <td>1</td>\n",
       "      <td>2</td>\n",
       "      <td>Wet or damp</td>\n",
       "      <td>Single carriageway</td>\n",
       "      <td>Rural</td>\n",
       "      <td>Fine no high winds</td>\n",
       "      <td>Motorcycle over 500cc</td>\n",
       "    </tr>\n",
       "    <tr>\n",
       "      <th>660678</th>\n",
       "      <td>201091NM02142</td>\n",
       "      <td>Serious</td>\n",
       "      <td>28-02-2022</td>\n",
       "      <td>57.575210</td>\n",
       "      <td>Daylight</td>\n",
       "      <td>Highland</td>\n",
       "      <td>-3.895673</td>\n",
       "      <td>1</td>\n",
       "      <td>1</td>\n",
       "      <td>Wet or damp</td>\n",
       "      <td>Dual carriageway</td>\n",
       "      <td>Rural</td>\n",
       "      <td>Snowing no high winds</td>\n",
       "      <td>Car</td>\n",
       "    </tr>\n",
       "  </tbody>\n",
       "</table>\n",
       "<p>660679 rows × 14 columns</p>\n",
       "</div>"
      ],
      "text/plain": [
       "                Index Accident_Severity Accident Date   Latitude  \\\n",
       "0       200701BS64157           Serious      5/6/2019  51.506187   \n",
       "1       200701BS65737           Serious      2/7/2019  51.495029   \n",
       "2       200701BS66127           Serious    26-08-2019  51.517715   \n",
       "3       200701BS66128           Serious    16-08-2019  51.495478   \n",
       "4       200701BS66837            Slight      3/9/2019  51.488576   \n",
       "...               ...               ...           ...        ...   \n",
       "660674  201091NM01760            Slight    18-02-2022  57.374005   \n",
       "660675  201091NM01881            Slight    21-02-2022  57.232273   \n",
       "660676  201091NM01935            Slight    23-02-2022  57.585044   \n",
       "660677  201091NM01964           Serious    23-02-2022  57.214898   \n",
       "660678  201091NM02142           Serious    28-02-2022  57.575210   \n",
       "\n",
       "                   Light_Conditions           District Area  Longitude  \\\n",
       "0             Darkness - lights lit  Kensington and Chelsea  -0.209082   \n",
       "1                          Daylight  Kensington and Chelsea  -0.173647   \n",
       "2       Darkness - lighting unknown  Kensington and Chelsea  -0.210215   \n",
       "3                          Daylight  Kensington and Chelsea  -0.202731   \n",
       "4             Darkness - lights lit  Kensington and Chelsea  -0.192487   \n",
       "...                             ...                     ...        ...   \n",
       "660674                     Daylight                Highland  -3.467828   \n",
       "660675       Darkness - no lighting                Highland  -3.809281   \n",
       "660676                     Daylight                Highland  -3.862727   \n",
       "660677       Darkness - no lighting                Highland  -3.823997   \n",
       "660678                     Daylight                Highland  -3.895673   \n",
       "\n",
       "        Number_of_Casualties  Number_of_Vehicles Road_Surface_Conditions  \\\n",
       "0                          1                   2                     Dry   \n",
       "1                          1                   2             Wet or damp   \n",
       "2                          1                   3                     Dry   \n",
       "3                          1                   4                     Dry   \n",
       "4                          1                   2                     Dry   \n",
       "...                      ...                 ...                     ...   \n",
       "660674                     2                   1                     Dry   \n",
       "660675                     1                   1            Frost or ice   \n",
       "660676                     1                   3            Frost or ice   \n",
       "660677                     1                   2             Wet or damp   \n",
       "660678                     1                   1             Wet or damp   \n",
       "\n",
       "                 Road_Type Urban_or_Rural_Area     Weather_Conditions  \\\n",
       "0       Single carriageway               Urban     Fine no high winds   \n",
       "1       Single carriageway               Urban  Raining no high winds   \n",
       "2       Single carriageway               Urban     Fine no high winds   \n",
       "3       Single carriageway               Urban     Fine no high winds   \n",
       "4       Single carriageway               Urban     Fine no high winds   \n",
       "...                    ...                 ...                    ...   \n",
       "660674  Single carriageway               Rural     Fine no high winds   \n",
       "660675  Single carriageway               Rural     Fine no high winds   \n",
       "660676  Single carriageway               Rural     Fine no high winds   \n",
       "660677  Single carriageway               Rural     Fine no high winds   \n",
       "660678    Dual carriageway               Rural  Snowing no high winds   \n",
       "\n",
       "                                Vehicle_Type  \n",
       "0                                        Car  \n",
       "1                                        Car  \n",
       "2                      Taxi/Private hire car  \n",
       "3       Bus or coach (17 or more pass seats)  \n",
       "4                              Other vehicle  \n",
       "...                                      ...  \n",
       "660674                                   Car  \n",
       "660675                                   Car  \n",
       "660676                                   Car  \n",
       "660677                 Motorcycle over 500cc  \n",
       "660678                                   Car  \n",
       "\n",
       "[660679 rows x 14 columns]"
      ]
     },
     "execution_count": 9,
     "metadata": {},
     "output_type": "execute_result"
    }
   ],
   "source": [
    "accident"
   ]
  },
  {
   "cell_type": "markdown",
   "id": "06972f79-465b-4d50-bd43-fbd4319990dc",
   "metadata": {},
   "source": [
    "<h1>Exploratory Data Analytics</h1>"
   ]
  },
  {
   "cell_type": "markdown",
   "id": "e1b3de9f-c35a-44a0-ac55-71bdcd2d7647",
   "metadata": {},
   "source": [
    "<h3>Question 1</h3>\n",
    "<h3>Which road surface condition has the fewest accidents?</h3>"
   ]
  },
  {
   "cell_type": "code",
   "execution_count": 10,
   "id": "2b7fae6d-dd5a-4f18-92ae-64a908f43a0b",
   "metadata": {},
   "outputs": [
    {
     "data": {
      "text/plain": [
       "Road_Surface_Conditions\n",
       "Dry                     448547\n",
       "Wet or damp             186708\n",
       "Frost or ice             18517\n",
       "Snow                      5890\n",
       "Flood over 3cm. deep      1017\n",
       "Name: count, dtype: int64"
      ]
     },
     "execution_count": 10,
     "metadata": {},
     "output_type": "execute_result"
    }
   ],
   "source": [
    "accident['Road_Surface_Conditions'].value_counts()"
   ]
  },
  {
   "cell_type": "markdown",
   "id": "a4f5e983-a344-46ac-86e7-7b5989885683",
   "metadata": {},
   "source": [
    "<h3>Insights No. 1</h3>\n",
    "<h4>The fewest accidents happened when the road was flooded over 3 cm deep, which makes sense because most drivers avoid driving in deep floodwater, while dry and wet roads have the most accidents since those are the conditions people usually drive in every day.</h4>"
   ]
  },
  {
   "cell_type": "markdown",
   "id": "dd47c3d9-f3c3-4490-9909-ea66d57a536e",
   "metadata": {},
   "source": [
    "<h3>Question 2</h3>\n",
    "<h3>What is the maximum number of casualties recorded in a single accident?</h3>"
   ]
  },
  {
   "cell_type": "code",
   "execution_count": 11,
   "id": "e4d16035-f9d1-4c4a-8b19-30bf619b5244",
   "metadata": {},
   "outputs": [
    {
     "data": {
      "text/plain": [
       "np.int64(68)"
      ]
     },
     "execution_count": 11,
     "metadata": {},
     "output_type": "execute_result"
    }
   ],
   "source": [
    "accident['Number_of_Casualties'].max()"
   ]
  },
  {
   "cell_type": "markdown",
   "id": "e7e3c061-575b-4caa-8014-26ee681c8c3d",
   "metadata": {},
   "source": [
    "<h3>Insights No. 2</h3>\n",
    "<h4>The deadliest accident recorded had 68 casualties, showing the severe impact a single incident can cause.</h4>"
   ]
  },
  {
   "cell_type": "markdown",
   "id": "713f5263-0b47-4e65-b78f-d74b4a5c577b",
   "metadata": {},
   "source": [
    "<h3>Question 3</h3>\n",
    "<h3>What is the minimum number of vehicles involved in accidents?</h3>"
   ]
  },
  {
   "cell_type": "code",
   "execution_count": 12,
   "id": "8d5f9d5e-402c-4612-81dc-d5b74ec53a02",
   "metadata": {},
   "outputs": [
    {
     "data": {
      "text/plain": [
       "np.int64(1)"
      ]
     },
     "execution_count": 12,
     "metadata": {},
     "output_type": "execute_result"
    }
   ],
   "source": [
    "accident['Number_of_Vehicles'].min()"
   ]
  },
  {
   "cell_type": "markdown",
   "id": "3813b063-cc00-4f48-b8e3-b5b49b4708a8",
   "metadata": {},
   "source": [
    "<h3>Insights No. 3</h3>\n",
    "<h4>The smallest number of vehicles in an accident is 1, which represents single-vehicle crashes such as hitting barriers, trees, or overturning without another car involved.</h4>"
   ]
  },
  {
   "cell_type": "markdown",
   "id": "9e550392-abac-4730-a707-b5c5ce6af5dc",
   "metadata": {},
   "source": [
    "<h3>Question 4</h3>\n",
    "<h3>What is the mode (most common value) of accident severity?</h3>"
   ]
  },
  {
   "cell_type": "code",
   "execution_count": 13,
   "id": "5053bced-6268-4454-9328-f3d6f8070f94",
   "metadata": {},
   "outputs": [
    {
     "data": {
      "text/plain": [
       "'Slight'"
      ]
     },
     "execution_count": 13,
     "metadata": {},
     "output_type": "execute_result"
    }
   ],
   "source": [
    "accident['Accident_Severity'].mode()[0]"
   ]
  },
  {
   "cell_type": "markdown",
   "id": "3ecf8a98-03bd-4cbd-b5ff-d01f45460727",
   "metadata": {},
   "source": [
    "<h3>Insights No. 4</h3>\n",
    "<h4>The most common accident severity is 3 (slight accidents), meaning that most reported accidents only result in minor injuries or damage instead of severe or fatal outcomes.</h4>"
   ]
  },
  {
   "cell_type": "markdown",
   "id": "3e324411-697b-40e7-9fca-9a2738b7656b",
   "metadata": {},
   "source": [
    "<h3>Question 5</h3>\n",
    "<h3>What is the mean accident severity score?</h3>"
   ]
  },
  {
   "cell_type": "code",
   "execution_count": 14,
   "id": "43302050-5341-4b89-99ce-87f2ee63be9d",
   "metadata": {},
   "outputs": [
    {
     "data": {
      "text/plain": [
       "np.float64(1.8402567661451326)"
      ]
     },
     "execution_count": 14,
     "metadata": {},
     "output_type": "execute_result"
    }
   ],
   "source": [
    "accident['Accident_Severity_numeric'] = accident['Accident_Severity'].astype('category').cat.codes\n",
    "accident['Accident_Severity_numeric'].mean()"
   ]
  },
  {
   "cell_type": "markdown",
   "id": "4a36ae1a-d9dd-4ed7-92b9-c8a4e6b53cda",
   "metadata": {},
   "source": [
    "<h3>Insights No. 5</h3>\n",
    "<h4>The average accident severity score is 1.84, which means most accidents fall between slight and serious in severity.</h4>"
   ]
  },
  {
   "cell_type": "markdown",
   "id": "e560cc37-03c4-4853-b488-2a58b1437959",
   "metadata": {},
   "source": [
    "<h3>Question 6</h3>\n",
    "<h3>What is the average number of casualties per accident?</h3>"
   ]
  },
  {
   "cell_type": "code",
   "execution_count": 15,
   "id": "3c07e555-8de2-4e45-b110-1fd32134fa26",
   "metadata": {},
   "outputs": [
    {
     "data": {
      "text/plain": [
       "np.float64(1.357040257068864)"
      ]
     },
     "execution_count": 15,
     "metadata": {},
     "output_type": "execute_result"
    }
   ],
   "source": [
    "accident['Number_of_Casualties'].mean()"
   ]
  },
  {
   "cell_type": "markdown",
   "id": "c7b2718a-78fe-4d82-b76b-492e9023b92d",
   "metadata": {},
   "source": [
    "<h3>Insights No. 6</h3>\n",
    "<h4>On average, each accident results in about 1 to 2 casualties, showing that most crashes involve only a small number of people.</h4>"
   ]
  },
  {
   "cell_type": "markdown",
   "id": "502f5489-2875-4823-af77-1b3233b8ad71",
   "metadata": {},
   "source": [
    "<h3>Question 7</h3>\n",
    "<h3>What is the average number of casualties in accidents on dual carriageways?</h3>"
   ]
  },
  {
   "cell_type": "code",
   "execution_count": 50,
   "id": "df02105d-4a4d-42b4-b327-bec043e995c5",
   "metadata": {},
   "outputs": [
    {
     "data": {
      "text/plain": [
       "np.float64(1.4772791277759898)"
      ]
     },
     "execution_count": 50,
     "metadata": {},
     "output_type": "execute_result"
    }
   ],
   "source": [
    "dual = accident[accident['Road_Type'] == 'Dual carriageway']\n",
    "dual['Number_of_Casualties'].mean()"
   ]
  },
  {
   "cell_type": "markdown",
   "id": "5d46bc9d-7934-40d9-8a7e-abafce504cf8",
   "metadata": {},
   "source": [
    "<h3>Insights No. 7</h3>\n",
    "<h4>On average, accidents on dual carriageways involve about 1.48 casualties per crash, showing that while these roads are built for smoother traffic, crashes can still cause multiple injuries.</h4>"
   ]
  },
  {
   "cell_type": "markdown",
   "id": "a4ece4d6-b7e3-4744-81d5-84d6b0ed424e",
   "metadata": {},
   "source": [
    "<h3>Question 8</h3>\n",
    "<h3>What is the average latitude of all recorded accidents?</h3>"
   ]
  },
  {
   "cell_type": "code",
   "execution_count": 21,
   "id": "768e29c1-2ae6-4fa0-add4-f14160e0590b",
   "metadata": {},
   "outputs": [
    {
     "data": {
      "text/plain": [
       "np.float64(52.553865761110956)"
      ]
     },
     "execution_count": 21,
     "metadata": {},
     "output_type": "execute_result"
    }
   ],
   "source": [
    "accident['Latitude'].mean()"
   ]
  },
  {
   "cell_type": "markdown",
   "id": "5a4fb696-df69-43c3-823d-df97c9a574e2",
   "metadata": {},
   "source": [
    "<h3>Insights No. 8</h3>\n",
    "<h4>The mean latitude is 52.55, which indicates that accidents are most common around the central and northern parts of the UK.</h4>"
   ]
  },
  {
   "cell_type": "markdown",
   "id": "4d843b8d-061d-43ab-b27a-0819ee06cf0f",
   "metadata": {},
   "source": [
    "<h3>Question 9</h3>\n",
    "<h3>What is the maximum number of vehicles ever involved in an accident?</h3>"
   ]
  },
  {
   "cell_type": "code",
   "execution_count": 22,
   "id": "d51342c5-bae0-4a75-bfde-880fc01bdd93",
   "metadata": {},
   "outputs": [
    {
     "data": {
      "text/plain": [
       "np.int64(32)"
      ]
     },
     "execution_count": 22,
     "metadata": {},
     "output_type": "execute_result"
    }
   ],
   "source": [
    "accident['Number_of_Vehicles'].max()"
   ]
  },
  {
   "cell_type": "markdown",
   "id": "0cd8ba15-fc5f-4ac8-95fa-b5f5d089d719",
   "metadata": {},
   "source": [
    "<h3>Insights No. 9</h3>\n",
    "<h4>The largest recorded accident involved 32 vehicles, showing that while most crashes involve two cars, pile-ups on busy roads or highways can lead to very large accidents.</h4>"
   ]
  },
  {
   "cell_type": "markdown",
   "id": "f5ea45c4-0260-4fa5-9d9c-025382fcffd1",
   "metadata": {},
   "source": [
    "<h3>Question 10</h3>\n",
    "<h3>What is the most common road type where accidents occur?</h3>"
   ]
  },
  {
   "cell_type": "code",
   "execution_count": 24,
   "id": "197851c8-e19a-4822-b38a-2c767148b4c2",
   "metadata": {},
   "outputs": [
    {
     "data": {
      "text/plain": [
       "'Single carriageway'"
      ]
     },
     "execution_count": 24,
     "metadata": {},
     "output_type": "execute_result"
    }
   ],
   "source": [
    "accident['Road_Type'].mode()[0]"
   ]
  },
  {
   "cell_type": "markdown",
   "id": "01ba457e-2461-489d-ab5f-fe1e4172e5fd",
   "metadata": {},
   "source": [
    "<h3>Insights No. 10</h3>\n",
    "<h4>The most frequent road type for accidents is single carriageway, which makes sense because these roads are the most common in the UK and carry both traffic directions without a divider.</h4>"
   ]
  },
  {
   "cell_type": "markdown",
   "id": "0e6c04c5-20b9-44cc-a521-8dc53a73e0da",
   "metadata": {},
   "source": [
    "<h3>Question 11</h3>\n",
    "<h3>How many accidents happened in each district and road type?</h3>"
   ]
  },
  {
   "cell_type": "code",
   "execution_count": 26,
   "id": "65d192dd-d611-4340-82dd-7dcbc1462eb0",
   "metadata": {},
   "outputs": [
    {
     "data": {
      "text/plain": [
       "District Area  Road_Type         \n",
       "Aberdeen City  Dual carriageway       246\n",
       "               One way street          29\n",
       "               Roundabout              87\n",
       "               Single carriageway     948\n",
       "               Slip road               13\n",
       "                                     ... \n",
       "York           Dual carriageway       114\n",
       "               One way street          61\n",
       "               Roundabout             176\n",
       "               Single carriageway    1540\n",
       "               Slip road                6\n",
       "Length: 2110, dtype: int64"
      ]
     },
     "execution_count": 26,
     "metadata": {},
     "output_type": "execute_result"
    }
   ],
   "source": [
    "accident.groupby(['District Area','Road_Type']).size()"
   ]
  },
  {
   "cell_type": "markdown",
   "id": "c53edb88-8822-4a61-be0a-8874df366d8e",
   "metadata": {},
   "source": [
    "<h3>Insights No. 11</h3>\n",
    "<h4>Accidents occur across all road types, but single carriageways consistently record the highest numbers in every district, showing they are the most accident-prone road type.</h4>"
   ]
  },
  {
   "cell_type": "markdown",
   "id": "373c1c84-60df-4152-b3b7-34c634f7dd73",
   "metadata": {},
   "source": [
    "<h3>Question 12</h3>\n",
    "<h3>What is the average number of vehicles in each road surface condition?</h3>"
   ]
  },
  {
   "cell_type": "code",
   "execution_count": 27,
   "id": "a71bf92d-40ad-48f3-beee-93cb38e9ebf7",
   "metadata": {},
   "outputs": [
    {
     "data": {
      "text/plain": [
       "Road_Surface_Conditions\n",
       "Dry                     1.841631\n",
       "Flood over 3cm. deep    1.610619\n",
       "Frost or ice            1.640006\n",
       "Snow                    1.746859\n",
       "Wet or damp             1.829161\n",
       "Name: Number_of_Vehicles, dtype: float64"
      ]
     },
     "execution_count": 27,
     "metadata": {},
     "output_type": "execute_result"
    }
   ],
   "source": [
    "accident.groupby('Road_Surface_Conditions')['Number_of_Vehicles'].mean()"
   ]
  },
  {
   "cell_type": "markdown",
   "id": "48a73151-1b1b-4e53-8081-1437ef6831e9",
   "metadata": {},
   "source": [
    "<h3>Insights No. 12</h3>\n",
    "<h4>On average, accidents on dry (1.84) and wet/damp (1.83) roads involve slightly more vehicles compared to flooded, icy, or snowy conditions, suggesting that high-traffic normal conditions may lead to multi-vehicle collisions.</h4>"
   ]
  },
  {
   "cell_type": "markdown",
   "id": "03bca883-a5f6-4840-87b9-ea462a8b55c9",
   "metadata": {},
   "source": [
    "<h3>Question 13</h3>\n",
    "<h3>What is the average accident severity in each district?</h3>"
   ]
  },
  {
   "cell_type": "code",
   "execution_count": 30,
   "id": "e42a3902-ff67-4581-910b-c0b82af75864",
   "metadata": {},
   "outputs": [
    {
     "data": {
      "text/plain": [
       "District Area\n",
       "Aberdeen City    1.801209\n",
       "Aberdeenshire    1.691710\n",
       "Adur             1.810985\n",
       "Allerdale        1.830674\n",
       "Alnwick          1.806034\n",
       "                   ...   \n",
       "Wychavon         1.814107\n",
       "Wycombe          1.851938\n",
       "Wyre             1.825525\n",
       "Wyre Forest      1.818369\n",
       "York             1.843437\n",
       "Name: Accident_Severity_numeric, Length: 422, dtype: float64"
      ]
     },
     "execution_count": 30,
     "metadata": {},
     "output_type": "execute_result"
    }
   ],
   "source": [
    "accident['Accident_Severity_numeric'] = accident['Accident_Severity'].astype('category').cat.codes\n",
    "accident.groupby('District Area')['Accident_Severity_numeric'].mean()"
   ]
  },
  {
   "cell_type": "markdown",
   "id": "6b901754-835f-4b0c-b85a-9144a3eb3f98",
   "metadata": {},
   "source": [
    "<h3>Insights No. 13</h3>\n",
    "<h4>Some districts have a higher average severity score, meaning accidents there tend to be more serious, while others mostly experience minor crashes.</h4>"
   ]
  },
  {
   "cell_type": "markdown",
   "id": "375a7a96-ed10-4c15-b32f-6baa65c26852",
   "metadata": {},
   "source": [
    "<h3>Question 14</h3>\n",
    "<h3>What is the minimum number of casualties ever recorded in an accident?</h3>"
   ]
  },
  {
   "cell_type": "code",
   "execution_count": 51,
   "id": "936b0db3-aa55-48e4-bc14-472e6e000f93",
   "metadata": {},
   "outputs": [
    {
     "data": {
      "text/plain": [
       "np.int64(1)"
      ]
     },
     "execution_count": 51,
     "metadata": {},
     "output_type": "execute_result"
    }
   ],
   "source": [
    "accident['Number_of_Casualties'].min()"
   ]
  },
  {
   "cell_type": "markdown",
   "id": "a5d27848-985e-41ad-9be0-1cac5916af51",
   "metadata": {},
   "source": [
    "<h3>Insights No. 14</h3>\n",
    "<h4>The smallest number of casualties in an accident is 1, which means that every recorded accident in the dataset involved at least one person being injured or affected.</h4>"
   ]
  },
  {
   "cell_type": "markdown",
   "id": "943db3a7-939a-4e4a-bbfd-9e1180e0d2fd",
   "metadata": {},
   "source": [
    "<h3>Question 15</h3>\n",
    "<h3>What is the correlation between number of vehicles and casualties?</h3>"
   ]
  },
  {
   "cell_type": "code",
   "execution_count": 32,
   "id": "19125f7e-b322-446d-977c-ec25d8bc895b",
   "metadata": {},
   "outputs": [
    {
     "data": {
      "text/plain": [
       "np.float64(0.22888886126927557)"
      ]
     },
     "execution_count": 32,
     "metadata": {},
     "output_type": "execute_result"
    }
   ],
   "source": [
    "accident['Number_of_Vehicles'].corr(accident['Number_of_Casualties'])"
   ]
  },
  {
   "cell_type": "markdown",
   "id": "efb31ec7-b9eb-40f7-a666-8327c5278278",
   "metadata": {},
   "source": [
    "<h3>Insights No. 15</h3>\n",
    "<h4>When more vehicles are involved in an accident, it usually leads to more people getting hurt, but the link isn’t that strong since other things like road conditions, driver actions, and safety measures also make a big difference.</h4>"
   ]
  },
  {
   "cell_type": "markdown",
   "id": "569dce16-64ab-412b-8cb6-c039f46b25e3",
   "metadata": {},
   "source": [
    "<h3>Question 16</h3>\n",
    "<h3>What is the correlation between latitude and casualties?</h3>"
   ]
  },
  {
   "cell_type": "code",
   "execution_count": 33,
   "id": "8218a00f-af71-46eb-a88e-8e5019bad71f",
   "metadata": {},
   "outputs": [
    {
     "data": {
      "text/plain": [
       "np.float64(0.032200686625906395)"
      ]
     },
     "execution_count": 33,
     "metadata": {},
     "output_type": "execute_result"
    }
   ],
   "source": [
    "accident['Latitude'].corr(accident['Number_of_Casualties'])"
   ]
  },
  {
   "cell_type": "markdown",
   "id": "0c9ed58d-f8b1-4095-bb0b-2782526e1aa6",
   "metadata": {},
   "source": [
    "<h3>Insights No. 16</h3>\n",
    "<h4>The north–south location (latitude) of an accident has almost no effect on how many people get hurt, showing that casualties are influenced more by other factors.</h4>"
   ]
  },
  {
   "cell_type": "markdown",
   "id": "1c3dcf4a-6aad-4cd3-adc9-fd3d374f289f",
   "metadata": {},
   "source": [
    "<h3>Question 17</h3>\n",
    "<h3>What is the correlation between longitude and casualties?</h3>"
   ]
  },
  {
   "cell_type": "code",
   "execution_count": 35,
   "id": "d54eda95-bba7-4e7f-b868-9d835ae51e23",
   "metadata": {},
   "outputs": [
    {
     "data": {
      "text/plain": [
       "np.float64(-0.0404056457884545)"
      ]
     },
     "execution_count": 35,
     "metadata": {},
     "output_type": "execute_result"
    }
   ],
   "source": [
    "accident['Longitude'].corr(accident['Number_of_Casualties'])"
   ]
  },
  {
   "cell_type": "markdown",
   "id": "c78521ad-c775-45c8-80c8-7b22b7db5eba",
   "metadata": {},
   "source": [
    "<h3>Insights No. 17</h3>\n",
    "<h4>The east–west location (longitude) of an accident shows almost no link to how many people are hurt, meaning casualties are driven by other factors rather than geography.</h4>"
   ]
  },
  {
   "cell_type": "markdown",
   "id": "6f00f9a4-3633-4a65-92e8-efc0ff0cc21e",
   "metadata": {},
   "source": [
    "<h3>Question 18</h3>\n",
    "<h3>Compare casualties in urban and rural areas.</h3>"
   ]
  },
  {
   "cell_type": "code",
   "execution_count": 54,
   "id": "046f8332-9668-4439-b976-72b3d6c9fc6d",
   "metadata": {},
   "outputs": [
    {
     "data": {
      "text/plain": [
       "np.float64(5.097050919646033e-249)"
      ]
     },
     "execution_count": 54,
     "metadata": {},
     "output_type": "execute_result"
    }
   ],
   "source": [
    "from scipy.stats import f_oneway\n",
    "dry = accident[accident['Road_Surface_Conditions'] == 'Dry']['Number_of_Casualties']\n",
    "wet = accident[accident['Road_Surface_Conditions'] == 'Wet or damp']['Number_of_Casualties']\n",
    "stats, p_value = f_oneway(dry, wet)\n",
    "p_value"
   ]
  },
  {
   "cell_type": "markdown",
   "id": "3c060007-f676-45c4-aa6e-3aff9bb41e40",
   "metadata": {},
   "source": [
    "<h3>Insights No. 18</h3>\n",
    "<h4>Accidents on wet or damp roads lead to significantly different casualty numbers compared to dry roads, showing that slippery conditions greatly affect how severe crashes can be.</h4>"
   ]
  },
  {
   "cell_type": "markdown",
   "id": "24ba17dd-b5cf-4d6c-a059-0507f25ad613",
   "metadata": {},
   "source": [
    "<h3>Question 19</h3>\n",
    "<h3>Compare casualties between single and dual carriageway roads.</h3>"
   ]
  },
  {
   "cell_type": "code",
   "execution_count": 47,
   "id": "98256ac2-98ed-4cea-8eac-41382ae8fffc",
   "metadata": {},
   "outputs": [
    {
     "data": {
      "text/plain": [
       "np.float64(0.0)"
      ]
     },
     "execution_count": 47,
     "metadata": {},
     "output_type": "execute_result"
    }
   ],
   "source": [
    "type1 = accident[accident['Road_Type'] == 'Single carriageway']['Number_of_Casualties']\n",
    "type2 = accident[accident['Road_Type'] == 'Dual carriageway']['Number_of_Casualties']\n",
    "stats, p_value = f_oneway(type1, type2)\n",
    "p_value"
   ]
  },
  {
   "cell_type": "markdown",
   "id": "d64075e9-0d92-41c2-8c49-9d8d423b7556",
   "metadata": {},
   "source": [
    "<h3>Insights No. 19</h3>\n",
    "<h4>Crashes on single carriageway roads usually result in more people getting hurt than those on dual carriageways, highlighting how safer road designs can reduce accident severity.</h4>"
   ]
  },
  {
   "cell_type": "markdown",
   "id": "99d4d026-6c7d-4280-90ec-41f99b2ac0c9",
   "metadata": {},
   "source": [
    "<h3>Question 20</h3>\n",
    "<h3>Create a column for casualties per vehicle.</h3>"
   ]
  },
  {
   "cell_type": "code",
   "execution_count": 48,
   "id": "ce692888-b57f-4eed-9c68-769f35643aef",
   "metadata": {},
   "outputs": [
    {
     "data": {
      "text/html": [
       "<div>\n",
       "<style scoped>\n",
       "    .dataframe tbody tr th:only-of-type {\n",
       "        vertical-align: middle;\n",
       "    }\n",
       "\n",
       "    .dataframe tbody tr th {\n",
       "        vertical-align: top;\n",
       "    }\n",
       "\n",
       "    .dataframe thead th {\n",
       "        text-align: right;\n",
       "    }\n",
       "</style>\n",
       "<table border=\"1\" class=\"dataframe\">\n",
       "  <thead>\n",
       "    <tr style=\"text-align: right;\">\n",
       "      <th></th>\n",
       "      <th>Number_of_Casualties</th>\n",
       "      <th>Number_of_Vehicles</th>\n",
       "      <th>Casualties_per_Vehicle</th>\n",
       "    </tr>\n",
       "  </thead>\n",
       "  <tbody>\n",
       "    <tr>\n",
       "      <th>0</th>\n",
       "      <td>1</td>\n",
       "      <td>2</td>\n",
       "      <td>0.500000</td>\n",
       "    </tr>\n",
       "    <tr>\n",
       "      <th>1</th>\n",
       "      <td>1</td>\n",
       "      <td>2</td>\n",
       "      <td>0.500000</td>\n",
       "    </tr>\n",
       "    <tr>\n",
       "      <th>2</th>\n",
       "      <td>1</td>\n",
       "      <td>3</td>\n",
       "      <td>0.333333</td>\n",
       "    </tr>\n",
       "    <tr>\n",
       "      <th>3</th>\n",
       "      <td>1</td>\n",
       "      <td>4</td>\n",
       "      <td>0.250000</td>\n",
       "    </tr>\n",
       "    <tr>\n",
       "      <th>4</th>\n",
       "      <td>1</td>\n",
       "      <td>2</td>\n",
       "      <td>0.500000</td>\n",
       "    </tr>\n",
       "    <tr>\n",
       "      <th>...</th>\n",
       "      <td>...</td>\n",
       "      <td>...</td>\n",
       "      <td>...</td>\n",
       "    </tr>\n",
       "    <tr>\n",
       "      <th>660674</th>\n",
       "      <td>2</td>\n",
       "      <td>1</td>\n",
       "      <td>2.000000</td>\n",
       "    </tr>\n",
       "    <tr>\n",
       "      <th>660675</th>\n",
       "      <td>1</td>\n",
       "      <td>1</td>\n",
       "      <td>1.000000</td>\n",
       "    </tr>\n",
       "    <tr>\n",
       "      <th>660676</th>\n",
       "      <td>1</td>\n",
       "      <td>3</td>\n",
       "      <td>0.333333</td>\n",
       "    </tr>\n",
       "    <tr>\n",
       "      <th>660677</th>\n",
       "      <td>1</td>\n",
       "      <td>2</td>\n",
       "      <td>0.500000</td>\n",
       "    </tr>\n",
       "    <tr>\n",
       "      <th>660678</th>\n",
       "      <td>1</td>\n",
       "      <td>1</td>\n",
       "      <td>1.000000</td>\n",
       "    </tr>\n",
       "  </tbody>\n",
       "</table>\n",
       "<p>660679 rows × 3 columns</p>\n",
       "</div>"
      ],
      "text/plain": [
       "        Number_of_Casualties  Number_of_Vehicles  Casualties_per_Vehicle\n",
       "0                          1                   2                0.500000\n",
       "1                          1                   2                0.500000\n",
       "2                          1                   3                0.333333\n",
       "3                          1                   4                0.250000\n",
       "4                          1                   2                0.500000\n",
       "...                      ...                 ...                     ...\n",
       "660674                     2                   1                2.000000\n",
       "660675                     1                   1                1.000000\n",
       "660676                     1                   3                0.333333\n",
       "660677                     1                   2                0.500000\n",
       "660678                     1                   1                1.000000\n",
       "\n",
       "[660679 rows x 3 columns]"
      ]
     },
     "execution_count": 48,
     "metadata": {},
     "output_type": "execute_result"
    }
   ],
   "source": [
    "accident['Casualties_per_Vehicle'] = accident['Number_of_Casualties'] / accident['Number_of_Vehicles']\n",
    "accident[['Number_of_Casualties','Number_of_Vehicles','Casualties_per_Vehicle']]"
   ]
  },
  {
   "cell_type": "markdown",
   "id": "1ce782ce-e416-4283-ae5b-2ed3740667ac",
   "metadata": {},
   "source": [
    "<h3>Insights No. 20</h3>\n",
    "<h4>This new column shows accident intensity by comparing casualties to vehicles involved, which helps us better compare small crashes with large pile-ups.</h4>"
   ]
  }
 ],
 "metadata": {
  "kernelspec": {
   "display_name": "Python 3 (ipykernel)",
   "language": "python",
   "name": "python3"
  },
  "language_info": {
   "codemirror_mode": {
    "name": "ipython",
    "version": 3
   },
   "file_extension": ".py",
   "mimetype": "text/x-python",
   "name": "python",
   "nbconvert_exporter": "python",
   "pygments_lexer": "ipython3",
   "version": "3.13.6"
  }
 },
 "nbformat": 4,
 "nbformat_minor": 5
}
